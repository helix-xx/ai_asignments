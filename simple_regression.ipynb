{
 "cells": [
  {
   "cell_type": "markdown",
   "metadata": {},
   "source": [
    "# tensorflow 实现简单线性回归"
   ]
  },
  {
   "cell_type": "code",
   "execution_count": 3,
   "metadata": {},
   "outputs": [
    {
     "name": "stdout",
     "output_type": "stream",
     "text": [
      "[PhysicalDevice(name='/physical_device:GPU:0', device_type='GPU')]\n"
     ]
    },
    {
     "name": "stderr",
     "output_type": "stream",
     "text": [
      "2022-09-06 20:51:14.092704: I tensorflow/stream_executor/cuda/cuda_gpu_executor.cc:961] could not open file to read NUMA node: /sys/bus/pci/devices/0000:01:00.0/numa_node\n",
      "Your kernel may have been built without NUMA support.\n",
      "2022-09-06 20:51:14.193125: I tensorflow/stream_executor/cuda/cuda_gpu_executor.cc:961] could not open file to read NUMA node: /sys/bus/pci/devices/0000:01:00.0/numa_node\n",
      "Your kernel may have been built without NUMA support.\n",
      "2022-09-06 20:51:14.194728: I tensorflow/stream_executor/cuda/cuda_gpu_executor.cc:961] could not open file to read NUMA node: /sys/bus/pci/devices/0000:01:00.0/numa_node\n",
      "Your kernel may have been built without NUMA support.\n"
     ]
    }
   ],
   "source": [
    "# tensorflow environment\n",
    "import tensorflow as tf\n",
    "import numpy as np\n",
    "import random\n",
    "import matplotlib.pyplot as plt\n",
    "\n",
    "# refer to d2l\n",
    "from d2l import tensorflow as d2l\n",
    "\n",
    "# using type hint from third party tools\n",
    "# deprecated since python3.9\n",
    "# from typing import list\n",
    "\n",
    "# ensure GPU available\n",
    "print(tf.config.list_physical_devices(\"GPU\"))"
   ]
  },
  {
   "cell_type": "markdown",
   "metadata": {},
   "source": [
    "## 生成数据"
   ]
  },
  {
   "cell_type": "code",
   "execution_count": 33,
   "metadata": {},
   "outputs": [],
   "source": [
    "def synthetic_data(w:list[float],b:float,num:int):\n",
    "    \"\"\"\n",
    "    creat data\n",
    "    \"\"\"\n",
    "    x = tf.zeros((num,w.shape[0]))\n",
    "    x += tf.random.normal(shape=x.shape) # noise\n",
    " \n",
    "    y= tf.matmul(x,tf.reshape(w,(-1,1))) + b\n",
    "    y += tf.random.normal(shape=y.shape,stddev=0.01)\n",
    "    y = tf.reshape(y,(-1,1))\n",
    "    return x,y\n"
   ]
  },
  {
   "cell_type": "code",
   "execution_count": 35,
   "metadata": {},
   "outputs": [
    {
     "name": "stdout",
     "output_type": "stream",
     "text": [
      "features: tf.Tensor([-0.7729939  -0.02612727 -1.132695  ], shape=(3,), dtype=float32)\n",
      "labels: tf.Tensor([-5.224094], shape=(1,), dtype=float32)\n"
     ]
    }
   ],
   "source": [
    "# weights\n",
    "w = tf.constant([1,2.1,3],dtype=float)\n",
    "# bias\n",
    "b = -1\n",
    "n = 1000\n",
    "\n",
    "x,y=synthetic_data(w,b,n)\n",
    "print(\"features:\",x[0])\n",
    "print(\"labels:\",y[0])"
   ]
  },
  {
   "cell_type": "markdown",
   "metadata": {},
   "source": [
    "## 读取数据"
   ]
  },
  {
   "cell_type": "code",
   "execution_count": 37,
   "metadata": {},
   "outputs": [],
   "source": [
    "def data_iter(batch_size,features,lables):\n",
    "    \"\"\"通过yield生成迭代器\"\"\"\n",
    "    nums=len(features)\n",
    "    # 随机读取样本\n",
    "    indices = list(range(nums))\n",
    "    random.shuffle(indices)\n",
    "    for i in range(0,nums,batch_size):\n",
    "        j = tf.constant(indices[i:min(i+batch_size,nums)])\n",
    "        yield tf.gather(features,j),tf.gather(lables,i)\n",
    "    pass"
   ]
  },
  {
   "cell_type": "code",
   "execution_count": 39,
   "metadata": {},
   "outputs": [
    {
     "name": "stdout",
     "output_type": "stream",
     "text": [
      "tf.Tensor(\n",
      "[[ 0.97910404  0.7734633  -0.4179601 ]\n",
      " [-0.04344636 -1.026765    0.16779661]\n",
      " [ 0.20594802 -1.3332775   1.5568743 ]\n",
      " [-0.5375585   0.02788551 -1.2643732 ]\n",
      " [-1.817231   -1.5623933   0.59103996]\n",
      " [ 0.20396647  0.7046695   0.43296498]\n",
      " [ 0.9863119  -2.0040646   0.91954654]\n",
      " [ 1.6995543  -0.21245213  0.8217019 ]\n",
      " [-0.5274577  -1.1235367   1.7480526 ]\n",
      " [ 1.6953299   0.57285887  0.23089398]], shape=(10, 3), dtype=float32) \n",
      " tf.Tensor(-1.7972207, shape=(), dtype=float32)\n"
     ]
    }
   ],
   "source": [
    "batch_size = 10\n",
    "\n",
    "for x,y in data_iter(batch_size,x,y):\n",
    "    print(x,\"\\n\",y)\n",
    "    break"
   ]
  },
  {
   "cell_type": "markdown",
   "metadata": {},
   "source": [
    "## 建立线性回归模型"
   ]
  },
  {
   "cell_type": "code",
   "execution_count": null,
   "metadata": {},
   "outputs": [],
   "source": [
    "# 初始化模型参数\n",
    "tw = tf.Variable(tf.random.normal(shape=(3,1),mean=0,stddev=0.01),trainable=True)\n",
    "tb = tf.Variable(tf.zeros(1))"
   ]
  },
  {
   "cell_type": "markdown",
   "metadata": {},
   "source": [
    "## 选择合适的损失函数和优化器"
   ]
  }
 ],
 "metadata": {
  "kernelspec": {
   "display_name": "Python 3.10.4 ('tf': conda)",
   "language": "python",
   "name": "python3"
  },
  "language_info": {
   "codemirror_mode": {
    "name": "ipython",
    "version": 3
   },
   "file_extension": ".py",
   "mimetype": "text/x-python",
   "name": "python",
   "nbconvert_exporter": "python",
   "pygments_lexer": "ipython3",
   "version": "3.9.13"
  },
  "orig_nbformat": 4,
  "vscode": {
   "interpreter": {
    "hash": "9c704421bd0243d5b478914b4a3d0c24d52bdf807a56ecd400f6e0266dd6c000"
   }
  }
 },
 "nbformat": 4,
 "nbformat_minor": 2
}
