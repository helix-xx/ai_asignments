{
 "cells": [
  {
   "cell_type": "markdown",
   "metadata": {},
   "source": [
    "# tensorflow 实现简单线性回归"
   ]
  },
  {
   "cell_type": "code",
   "execution_count": null,
   "metadata": {},
   "outputs": [],
   "source": [
    "# tensorflow environment\n",
    "import tensorflow as tf\n",
    "import numpy as np\n",
    "import random\n",
    "import matplotlib.pyplot as plt\n",
    "\n",
    "# refer to d2l\n",
    "from d2l import tensorflow as d2l\n",
    "\n",
    "# using type hint from third party tools\n",
    "# deprecated since python3.9\n",
    "# from typing import list\n",
    "\n",
    "# ensure GPU available\n",
    "print(tf.config.list_physical_devices(\"GPU\"))"
   ]
  },
  {
   "cell_type": "markdown",
   "metadata": {},
   "source": [
    "## 生成数据"
   ]
  },
  {
   "cell_type": "code",
   "execution_count": null,
   "metadata": {},
   "outputs": [],
   "source": [
    "def synthetic_data(w:list[float],b:float,num:int):\n",
    "    \"\"\"\n",
    "    creat data\n",
    "    \"\"\"\n",
    "    x = tf.zeros((num,w.shape[0]))\n",
    "    x += tf.random.normal(shape=x.shape) # noise\n",
    " \n",
    "    y= tf.matmul(x,tf.reshape(w,(-1,1))) + b\n",
    "    y += tf.random.normal(shape=y.shape,stddev=0.01)\n",
    "    y = tf.reshape(y,(-1,1))\n",
    "    return x,y\n"
   ]
  },
  {
   "cell_type": "code",
   "execution_count": null,
   "metadata": {},
   "outputs": [],
   "source": [
    "# weights\n",
    "w = tf.constant([1,2.1,3],dtype=float)\n",
    "# bias\n",
    "b = -1\n",
    "n = 1000\n",
    "\n",
    "features,lables=synthetic_data(w,b,n)\n",
    "print(\"features:\",features[0])\n",
    "print(\"labels:\",lables[0])"
   ]
  },
  {
   "cell_type": "markdown",
   "metadata": {},
   "source": [
    "## 读取数据"
   ]
  },
  {
   "cell_type": "code",
   "execution_count": null,
   "metadata": {},
   "outputs": [],
   "source": [
    "def data_iter(batch_size,features,lables):\n",
    "    \"\"\"通过yield生成迭代器\"\"\"\n",
    "    nums=len(features)\n",
    "    # 随机读取样本\n",
    "    indices = list(range(nums))\n",
    "    random.shuffle(indices)\n",
    "    for i in range(0,nums,batch_size):\n",
    "        j = tf.constant(indices[i:min(i+batch_size,nums)])\n",
    "        yield tf.gather(features,j),tf.gather(lables,j)\n",
    "    pass"
   ]
  },
  {
   "cell_type": "code",
   "execution_count": null,
   "metadata": {},
   "outputs": [],
   "source": [
    "batch_size = 10\n",
    "\n",
    "for x,y in data_iter(batch_size,features,lables):\n",
    "    print(x,\"\\n\")\n",
    "    print(y)"
   ]
  },
  {
   "cell_type": "markdown",
   "metadata": {},
   "source": [
    "## 建立线性回归模型"
   ]
  },
  {
   "cell_type": "code",
   "execution_count": null,
   "metadata": {},
   "outputs": [],
   "source": [
    "# 初始化模型参数\n",
    "tw = tf.Variable(tf.random.normal(shape=(3,1),mean=0,stddev=0.01),trainable=True)\n",
    "tb = tf.Variable(tf.zeros(1))"
   ]
  },
  {
   "cell_type": "code",
   "execution_count": null,
   "metadata": {},
   "outputs": [],
   "source": [
    "# 定义模型\n",
    "def liner_regression(x,w,b):\n",
    "    \"\"\"线性回归模型\"\"\"\n",
    "    return tf.matmul(x,w)+b"
   ]
  },
  {
   "cell_type": "markdown",
   "metadata": {},
   "source": [
    "## 选择合适的损失函数和优化器"
   ]
  },
  {
   "cell_type": "code",
   "execution_count": null,
   "metadata": {},
   "outputs": [],
   "source": [
    "# 损失函数\n",
    "def squared_loss(y_hat,y):\n",
    "    \"\"\"均方损失\"\"\"\n",
    "    return (y_hat - tf.reshape(y,y_hat.shape)) ** 2 / 2"
   ]
  },
  {
   "cell_type": "code",
   "execution_count": null,
   "metadata": {},
   "outputs": [],
   "source": [
    "# 优化算法\n",
    "def sgd(params, grads,lr,batch_size):\n",
    "    \"\"\"小批量随机梯度下降\"\"\"\n",
    "    for param, grad in zip(params, grads):\n",
    "        param.assign_sub(lr*grad/batch_size)"
   ]
  },
  {
   "cell_type": "code",
   "execution_count": null,
   "metadata": {},
   "outputs": [],
   "source": [
    "# 训练及参数\n",
    "\n",
    "\n",
    "lr = 0.03\n",
    "num_epochs = 10\n",
    "net = liner_regression\n",
    "loss = squared_loss\n",
    "\n",
    "for epoch in range(num_epochs):\n",
    "    for _x,_y in data_iter(batch_size=batch_size,features=x,lables=y):\n",
    "        with tf.GradientTape() as g:\n",
    "            # print(_x,w)\n",
    "            l = loss(net(_x,tw,tb),_y)\n",
    "        dw,db=g.gradient(l,[tw,tb])\n",
    "        sgd([tw,tb],[dw,db],lr,batch_size)\n",
    "    train_l = loss(net(features,tw,tb),lables)\n",
    "    print(f'epoch {epoch + 1}, loss {float(tf.reduce_mean(train_l)):f}')\n",
    "\n",
    "\n"
   ]
  },
  {
   "cell_type": "code",
   "execution_count": null,
   "metadata": {},
   "outputs": [],
   "source": [
    "print(f'w的估计误差: {w - tf.reshape(tw, w.shape)}')\n",
    "print(f'b的估计误差: {b - tb}')"
   ]
  }
 ],
 "metadata": {
  "kernelspec": {
   "display_name": "Python 3.10.4 ('tf': conda)",
   "language": "python",
   "name": "python3"
  },
  "language_info": {
   "codemirror_mode": {
    "name": "ipython",
    "version": 3
   },
   "file_extension": ".py",
   "mimetype": "text/x-python",
   "name": "python",
   "nbconvert_exporter": "python",
   "pygments_lexer": "ipython3",
   "version": "3.9.13"
  },
  "orig_nbformat": 4,
  "vscode": {
   "interpreter": {
    "hash": "9c704421bd0243d5b478914b4a3d0c24d52bdf807a56ecd400f6e0266dd6c000"
   }
  }
 },
 "nbformat": 4,
 "nbformat_minor": 2
}
